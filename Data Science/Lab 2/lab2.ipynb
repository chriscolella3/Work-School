{
 "cells": [
  {
   "cell_type": "markdown",
   "metadata": {
    "slideshow": {
     "slide_type": "slide"
    }
   },
   "source": [
    "# CSIT 356: Lab 2: Numpy and Pandas\n",
    "## [Chris Colella]\n"
   ]
  },
  {
   "cell_type": "markdown",
   "metadata": {
    "slideshow": {
     "slide_type": "slide"
    }
   },
   "source": [
    "### Instruction\n",
    "The file name is data.csv. It contains the information of all municipalities in New Jersery. The meaning of each colunmn is as follows:\n",
    "\n",
    "* Municipality: the name of the municipality \n",
    "* County: the county that the municipality belongs to \n",
    "* POP2010: the population of a municipality in 2010 \n",
    "* POP2017: the population of a municipality in 2017 \n",
    "* MunicipalType: the type of a municipality\n",
    "\n",
    "In this assignment, please use the functions and operations in pandas to answer the following questions. \n",
    "\n",
    "\n",
    "#### About submission\n",
    "You need to finish all questions of both In-class exercise and homework. Name your ipynb file as StudentName_lab2.ipynb and submit it on Canvas.\n",
    "\n",
    "PLEASE ENSURE THAT THE SCRIPT CAN CORRECTLY EXECUTE!!!"
   ]
  },
  {
   "cell_type": "code",
   "execution_count": 90,
   "metadata": {
    "slideshow": {
     "slide_type": "slide"
    }
   },
   "outputs": [],
   "source": [
    "# import pandas\n",
    "# Don't delete this cell\n",
    "\n",
    "import pandas as pd"
   ]
  },
  {
   "cell_type": "markdown",
   "metadata": {
    "slideshow": {
     "slide_type": "slide"
    }
   },
   "source": [
    "## In-class Exercise"
   ]
  },
  {
   "cell_type": "markdown",
   "metadata": {
    "slideshow": {
     "slide_type": "slide"
    }
   },
   "source": [
    "## Exercise 0 \n",
    "Read the file data.csv as a dataFrame named **df**. Assign the column 'Municipal' as the row index.   \n",
    "  \n",
    "#### Note  \n",
    "1. Use **read_csv** to read the file to be a dataFrame\n",
    "2. Set the argument **index_col** to be the name of the first column\n",
    "3. Set the argument **thousands** to be ',' since there are thousand separators in the file"
   ]
  },
  {
   "cell_type": "code",
   "execution_count": 84,
   "metadata": {
    "slideshow": {
     "slide_type": "fragment"
    }
   },
   "outputs": [
    {
     "data": {
      "text/html": [
       "<div>\n",
       "<style scoped>\n",
       "    .dataframe tbody tr th:only-of-type {\n",
       "        vertical-align: middle;\n",
       "    }\n",
       "\n",
       "    .dataframe tbody tr th {\n",
       "        vertical-align: top;\n",
       "    }\n",
       "\n",
       "    .dataframe thead th {\n",
       "        text-align: right;\n",
       "    }\n",
       "</style>\n",
       "<table border=\"1\" class=\"dataframe\">\n",
       "  <thead>\n",
       "    <tr style=\"text-align: right;\">\n",
       "      <th></th>\n",
       "      <th>County</th>\n",
       "      <th>POP2010</th>\n",
       "      <th>POP2017</th>\n",
       "      <th>MunicipalType</th>\n",
       "    </tr>\n",
       "    <tr>\n",
       "      <th>Municipality</th>\n",
       "      <th></th>\n",
       "      <th></th>\n",
       "      <th></th>\n",
       "      <th></th>\n",
       "    </tr>\n",
       "  </thead>\n",
       "  <tbody>\n",
       "    <tr>\n",
       "      <th>Aberdeen</th>\n",
       "      <td>Monmouth</td>\n",
       "      <td>18157</td>\n",
       "      <td>18232</td>\n",
       "      <td>Township</td>\n",
       "    </tr>\n",
       "    <tr>\n",
       "      <th>Absecon</th>\n",
       "      <td>Atlantic</td>\n",
       "      <td>8411</td>\n",
       "      <td>8283</td>\n",
       "      <td>City</td>\n",
       "    </tr>\n",
       "    <tr>\n",
       "      <th>Alexandria Township</th>\n",
       "      <td>Hunterdon</td>\n",
       "      <td>4938</td>\n",
       "      <td>4805</td>\n",
       "      <td>Township</td>\n",
       "    </tr>\n",
       "    <tr>\n",
       "      <th>Allamuchy</th>\n",
       "      <td>Warren</td>\n",
       "      <td>4323</td>\n",
       "      <td>4644</td>\n",
       "      <td>Township</td>\n",
       "    </tr>\n",
       "    <tr>\n",
       "      <th>Allendale</th>\n",
       "      <td>Bergen</td>\n",
       "      <td>6505</td>\n",
       "      <td>6906</td>\n",
       "      <td>Borough</td>\n",
       "    </tr>\n",
       "    <tr>\n",
       "      <th>...</th>\n",
       "      <td>...</td>\n",
       "      <td>...</td>\n",
       "      <td>...</td>\n",
       "      <td>...</td>\n",
       "    </tr>\n",
       "    <tr>\n",
       "      <th>Woodlynne</th>\n",
       "      <td>Camden</td>\n",
       "      <td>2978</td>\n",
       "      <td>2947</td>\n",
       "      <td>Borough</td>\n",
       "    </tr>\n",
       "    <tr>\n",
       "      <th>Woodstown</th>\n",
       "      <td>Salem</td>\n",
       "      <td>3505</td>\n",
       "      <td>3454</td>\n",
       "      <td>Borough</td>\n",
       "    </tr>\n",
       "    <tr>\n",
       "      <th>Woolwich Township</th>\n",
       "      <td>Gloucester</td>\n",
       "      <td>10200</td>\n",
       "      <td>12472</td>\n",
       "      <td>Township</td>\n",
       "    </tr>\n",
       "    <tr>\n",
       "      <th>Wrightstown</th>\n",
       "      <td>Burlington</td>\n",
       "      <td>802</td>\n",
       "      <td>785</td>\n",
       "      <td>Borough</td>\n",
       "    </tr>\n",
       "    <tr>\n",
       "      <th>Wyckoff</th>\n",
       "      <td>Bergen</td>\n",
       "      <td>16635</td>\n",
       "      <td>16941</td>\n",
       "      <td>Township</td>\n",
       "    </tr>\n",
       "  </tbody>\n",
       "</table>\n",
       "<p>565 rows × 4 columns</p>\n",
       "</div>"
      ],
      "text/plain": [
       "                         County  POP2010  POP2017 MunicipalType\n",
       "Municipality                                                   \n",
       "Aberdeen               Monmouth    18157    18232      Township\n",
       "Absecon                Atlantic     8411     8283          City\n",
       "Alexandria Township   Hunterdon     4938     4805      Township\n",
       "Allamuchy                Warren     4323     4644      Township\n",
       "Allendale                Bergen     6505     6906       Borough\n",
       "...                         ...      ...      ...           ...\n",
       "Woodlynne                Camden     2978     2947       Borough\n",
       "Woodstown                 Salem     3505     3454       Borough\n",
       "Woolwich Township    Gloucester    10200    12472      Township\n",
       "Wrightstown          Burlington      802      785       Borough\n",
       "Wyckoff                  Bergen    16635    16941      Township\n",
       "\n",
       "[565 rows x 4 columns]"
      ]
     },
     "execution_count": 84,
     "metadata": {},
     "output_type": "execute_result"
    }
   ],
   "source": [
    "df = pd.read_csv (\"data.csv\", thousands=',', index_col=\"Municipality\")\n",
    "df"
   ]
  },
  {
   "cell_type": "markdown",
   "metadata": {
    "slideshow": {
     "slide_type": "slide"
    }
   },
   "source": [
    "## Exercise 1 (5 points)\n",
    "What is the name of the municipality with the most population in 2017? "
   ]
  },
  {
   "cell_type": "code",
   "execution_count": 52,
   "metadata": {
    "slideshow": {
     "slide_type": "slide"
    }
   },
   "outputs": [
    {
     "data": {
      "text/plain": [
       "'Essex'"
      ]
     },
     "execution_count": 52,
     "metadata": {},
     "output_type": "execute_result"
    }
   ],
   "source": [
    "\n",
    "df['POP2017'].idxmax()"
   ]
  },
  {
   "cell_type": "markdown",
   "metadata": {
    "slideshow": {
     "slide_type": "slide"
    }
   },
   "source": [
    "## Exercise 2  (5 points)\n",
    "How many municipalities are there in each county? The output should be a Series with the county name as the index and the number as the value.  \n",
    "#### Hint: \n",
    "Choose the column of 'County' and use **value_counts** function to calculate the frequencies of values in that column. "
   ]
  },
  {
   "cell_type": "code",
   "execution_count": 87,
   "metadata": {
    "slideshow": {
     "slide_type": "slide"
    }
   },
   "outputs": [
    {
     "data": {
      "text/plain": [
       "Bergen        70\n",
       "Monmouth      53\n",
       "Burlington    40\n",
       "Morris        39\n",
       "Camden        37\n",
       "Ocean         33\n",
       "Hunterdon     26\n",
       "Middlesex     25\n",
       "Gloucester    24\n",
       "Sussex        24\n",
       "Atlantic      23\n",
       "Warren        22\n",
       "Essex         22\n",
       "Union         21\n",
       "Somerset      21\n",
       "Passaic       16\n",
       "Cape May      16\n",
       "Salem         15\n",
       "Cumberland    14\n",
       "Hudson        12\n",
       "Mercer        12\n",
       "Name: County, dtype: int64"
      ]
     },
     "execution_count": 87,
     "metadata": {},
     "output_type": "execute_result"
    }
   ],
   "source": [
    "import pandas as pd\n",
    "\n",
    "df['County'].value_counts()"
   ]
  },
  {
   "cell_type": "markdown",
   "metadata": {
    "slideshow": {
     "slide_type": "slide"
    }
   },
   "source": [
    "## Exercise 3 (5 points)\n",
    "Which municipality has the largest increasing in population from 2010 to 2017?\n",
    "The output should be a string. "
   ]
  },
  {
   "cell_type": "code",
   "execution_count": 88,
   "metadata": {
    "slideshow": {
     "slide_type": "slide"
    }
   },
   "outputs": [
    {
     "data": {
      "text/plain": [
       "'Jersey City'"
      ]
     },
     "execution_count": 88,
     "metadata": {},
     "output_type": "execute_result"
    }
   ],
   "source": [
    "# You should write your answer within this cell\n",
    "# write your code of exercise 3 here\n",
    "\n",
    "(df['POP2017']- df['POP2010']).idxmax()\n"
   ]
  },
  {
   "cell_type": "markdown",
   "metadata": {
    "slideshow": {
     "slide_type": "slide"
    }
   },
   "source": [
    "## Exercise 4 (5 points)\n",
    "What is the total population of the Essex county in 2017? The output should be an integer. \n",
    "#### Hint\n",
    "1. Create a new dataFrame which selects the rows that are 'Essex' in the column 'County'\n",
    "2. Choose the column 'POP2017' of the new dataFrame\n",
    "3. Apply sum method to get the sum of that column"
   ]
  },
  {
   "cell_type": "code",
   "execution_count": 105,
   "metadata": {
    "slideshow": {
     "slide_type": "slide"
    }
   },
   "outputs": [
    {
     "data": {
      "text/plain": [
       "807959"
      ]
     },
     "execution_count": 105,
     "metadata": {},
     "output_type": "execute_result"
    }
   ],
   "source": [
    "# You should write your answer within this cell\n",
    "# write your code of question 4 here\n",
    "\n",
    "df[df['County'] == 'Essex']['POP2017'].sum()\n"
   ]
  },
  {
   "cell_type": "markdown",
   "metadata": {
    "slideshow": {
     "slide_type": "slide"
    }
   },
   "source": [
    "## Exercise 5 (5 points)\n",
    "Find the top five municipalities in population of 2017. List their county and the population of 2017. The output should be a dataFrame with two columns 'County' and 'POP2017', and the municipality as the index.\n",
    "\n",
    "#### Hint\n",
    "1. Sort **df** by the values in the column 'POP2017' in descending order. \n",
    "2. Choose the first 5 rows of the sorted **df**, and select their columns 'County' and 'POP2017'"
   ]
  },
  {
   "cell_type": "code",
   "execution_count": 127,
   "metadata": {
    "scrolled": true,
    "slideshow": {
     "slide_type": "slide"
    }
   },
   "outputs": [
    {
     "data": {
      "text/html": [
       "<div>\n",
       "<style scoped>\n",
       "    .dataframe tbody tr th:only-of-type {\n",
       "        vertical-align: middle;\n",
       "    }\n",
       "\n",
       "    .dataframe tbody tr th {\n",
       "        vertical-align: top;\n",
       "    }\n",
       "\n",
       "    .dataframe thead th {\n",
       "        text-align: right;\n",
       "    }\n",
       "</style>\n",
       "<table border=\"1\" class=\"dataframe\">\n",
       "  <thead>\n",
       "    <tr style=\"text-align: right;\">\n",
       "      <th></th>\n",
       "      <th>County</th>\n",
       "      <th>POP2017</th>\n",
       "    </tr>\n",
       "    <tr>\n",
       "      <th>Municipality</th>\n",
       "      <th></th>\n",
       "      <th></th>\n",
       "    </tr>\n",
       "  </thead>\n",
       "  <tbody>\n",
       "    <tr>\n",
       "      <th>Newark</th>\n",
       "      <td>Essex</td>\n",
       "      <td>285154</td>\n",
       "    </tr>\n",
       "    <tr>\n",
       "      <th>Jersey City</th>\n",
       "      <td>Hudson</td>\n",
       "      <td>270753</td>\n",
       "    </tr>\n",
       "    <tr>\n",
       "      <th>Paterson</th>\n",
       "      <td>Passaic</td>\n",
       "      <td>148678</td>\n",
       "    </tr>\n",
       "    <tr>\n",
       "      <th>Elizabeth</th>\n",
       "      <td>Union</td>\n",
       "      <td>130215</td>\n",
       "    </tr>\n",
       "    <tr>\n",
       "      <th>Lakewood</th>\n",
       "      <td>Ocean</td>\n",
       "      <td>102682</td>\n",
       "    </tr>\n",
       "  </tbody>\n",
       "</table>\n",
       "</div>"
      ],
      "text/plain": [
       "               County  POP2017\n",
       "Municipality                  \n",
       "Newark          Essex   285154\n",
       "Jersey City    Hudson   270753\n",
       "Paterson      Passaic   148678\n",
       "Elizabeth       Union   130215\n",
       "Lakewood        Ocean   102682"
      ]
     },
     "execution_count": 127,
     "metadata": {},
     "output_type": "execute_result"
    }
   ],
   "source": [
    "# You should write your answer within this cell\n",
    "# write your code of question 5 here\n",
    "\n",
    "df.sort_values(by='POP2017', ascending=False)[:5][['County', 'POP2017']]\n"
   ]
  },
  {
   "cell_type": "markdown",
   "metadata": {
    "slideshow": {
     "slide_type": "slide"
    }
   },
   "source": [
    "## Homework"
   ]
  },
  {
   "cell_type": "markdown",
   "metadata": {
    "slideshow": {
     "slide_type": "slide"
    }
   },
   "source": [
    "### Question 1 (6 points)\n",
    "What is the name of the township with the most population in 2010?"
   ]
  },
  {
   "cell_type": "code",
   "execution_count": 128,
   "metadata": {
    "slideshow": {
     "slide_type": "skip"
    }
   },
   "outputs": [
    {
     "data": {
      "text/html": [
       "<div>\n",
       "<style scoped>\n",
       "    .dataframe tbody tr th:only-of-type {\n",
       "        vertical-align: middle;\n",
       "    }\n",
       "\n",
       "    .dataframe tbody tr th {\n",
       "        vertical-align: top;\n",
       "    }\n",
       "\n",
       "    .dataframe thead th {\n",
       "        text-align: right;\n",
       "    }\n",
       "</style>\n",
       "<table border=\"1\" class=\"dataframe\">\n",
       "  <thead>\n",
       "    <tr style=\"text-align: right;\">\n",
       "      <th></th>\n",
       "      <th>County</th>\n",
       "      <th>POP2010</th>\n",
       "      <th>POP2017</th>\n",
       "      <th>MunicipalType</th>\n",
       "    </tr>\n",
       "    <tr>\n",
       "      <th>Municipality</th>\n",
       "      <th></th>\n",
       "      <th></th>\n",
       "      <th></th>\n",
       "      <th></th>\n",
       "    </tr>\n",
       "  </thead>\n",
       "  <tbody>\n",
       "    <tr>\n",
       "      <th>Tavistock</th>\n",
       "      <td>Camden</td>\n",
       "      <td>5</td>\n",
       "      <td>5</td>\n",
       "      <td>Borough</td>\n",
       "    </tr>\n",
       "    <tr>\n",
       "      <th>Pine Valley</th>\n",
       "      <td>Camden</td>\n",
       "      <td>12</td>\n",
       "      <td>11</td>\n",
       "      <td>Borough</td>\n",
       "    </tr>\n",
       "    <tr>\n",
       "      <th>Walpack Township</th>\n",
       "      <td>Sussex</td>\n",
       "      <td>16</td>\n",
       "      <td>11</td>\n",
       "      <td>Township</td>\n",
       "    </tr>\n",
       "    <tr>\n",
       "      <th>Teterboro</th>\n",
       "      <td>Bergen</td>\n",
       "      <td>67</td>\n",
       "      <td>69</td>\n",
       "      <td>Borough</td>\n",
       "    </tr>\n",
       "    <tr>\n",
       "      <th>Loch Arbour</th>\n",
       "      <td>Monmouth</td>\n",
       "      <td>194</td>\n",
       "      <td>183</td>\n",
       "      <td>Village</td>\n",
       "    </tr>\n",
       "    <tr>\n",
       "      <th>...</th>\n",
       "      <td>...</td>\n",
       "      <td>...</td>\n",
       "      <td>...</td>\n",
       "      <td>...</td>\n",
       "    </tr>\n",
       "    <tr>\n",
       "      <th>Edison</th>\n",
       "      <td>Middlesex</td>\n",
       "      <td>99967</td>\n",
       "      <td>102450</td>\n",
       "      <td>Township</td>\n",
       "    </tr>\n",
       "    <tr>\n",
       "      <th>Elizabeth</th>\n",
       "      <td>Union</td>\n",
       "      <td>124969</td>\n",
       "      <td>130215</td>\n",
       "      <td>City</td>\n",
       "    </tr>\n",
       "    <tr>\n",
       "      <th>Paterson</th>\n",
       "      <td>Passaic</td>\n",
       "      <td>146199</td>\n",
       "      <td>148678</td>\n",
       "      <td>City</td>\n",
       "    </tr>\n",
       "    <tr>\n",
       "      <th>Jersey City</th>\n",
       "      <td>Hudson</td>\n",
       "      <td>247597</td>\n",
       "      <td>270753</td>\n",
       "      <td>City</td>\n",
       "    </tr>\n",
       "    <tr>\n",
       "      <th>Newark</th>\n",
       "      <td>Essex</td>\n",
       "      <td>277140</td>\n",
       "      <td>285154</td>\n",
       "      <td>City</td>\n",
       "    </tr>\n",
       "  </tbody>\n",
       "</table>\n",
       "<p>565 rows × 4 columns</p>\n",
       "</div>"
      ],
      "text/plain": [
       "                     County  POP2010  POP2017 MunicipalType\n",
       "Municipality                                               \n",
       "Tavistock            Camden        5        5       Borough\n",
       "Pine Valley          Camden       12       11       Borough\n",
       "Walpack Township     Sussex       16       11      Township\n",
       "Teterboro            Bergen       67       69       Borough\n",
       "Loch Arbour        Monmouth      194      183       Village\n",
       "...                     ...      ...      ...           ...\n",
       "Edison            Middlesex    99967   102450      Township\n",
       "Elizabeth             Union   124969   130215          City\n",
       "Paterson            Passaic   146199   148678          City\n",
       "Jersey City          Hudson   247597   270753          City\n",
       "Newark                Essex   277140   285154          City\n",
       "\n",
       "[565 rows x 4 columns]"
      ]
     },
     "execution_count": 128,
     "metadata": {},
     "output_type": "execute_result"
    }
   ],
   "source": [
    "# You should write your answer within this cell\n",
    "# write your code of question 1 here\n",
    "\n",
    "df.sort_values(by='POP2010')\n"
   ]
  },
  {
   "cell_type": "markdown",
   "metadata": {
    "slideshow": {
     "slide_type": "slide"
    }
   },
   "source": [
    "### Question 2 (6 points)\n",
    "How many boroughs are there in each county? The output should be a Series with the county name as the index and the number as the value."
   ]
  },
  {
   "cell_type": "code",
   "execution_count": null,
   "metadata": {
    "slideshow": {
     "slide_type": "skip"
    }
   },
   "outputs": [],
   "source": [
    "# You should write your answer within this cell\n",
    "# write your code of question 2 here\n",
    "\n",
    "use value_counts\n",
    "boolean slicing\n"
   ]
  },
  {
   "cell_type": "markdown",
   "metadata": {
    "slideshow": {
     "slide_type": "slide"
    }
   },
   "source": [
    "### Question 3 (6 points)\n",
    "What is the total population of the Morris county in 2010? The output should be an integer. "
   ]
  },
  {
   "cell_type": "code",
   "execution_count": null,
   "metadata": {
    "slideshow": {
     "slide_type": "skip"
    }
   },
   "outputs": [],
   "source": [
    "# You should write your answer within this cell\n",
    "# write your code of question 3 here\n",
    "\n",
    "\n"
   ]
  },
  {
   "cell_type": "markdown",
   "metadata": {
    "slideshow": {
     "slide_type": "slide"
    }
   },
   "source": [
    "### Question 4 (7 points)\n",
    "Find the five municipalities with least population of 2010. List their county, municipal type and the population of 2010. The output should be a dataFrame with three columns 'County', 'MunicipalType' and 'POP2010', and the municipality as the index."
   ]
  },
  {
   "cell_type": "code",
   "execution_count": 134,
   "metadata": {
    "slideshow": {
     "slide_type": "skip"
    }
   },
   "outputs": [
    {
     "data": {
      "text/html": [
       "<div>\n",
       "<style scoped>\n",
       "    .dataframe tbody tr th:only-of-type {\n",
       "        vertical-align: middle;\n",
       "    }\n",
       "\n",
       "    .dataframe tbody tr th {\n",
       "        vertical-align: top;\n",
       "    }\n",
       "\n",
       "    .dataframe thead th {\n",
       "        text-align: right;\n",
       "    }\n",
       "</style>\n",
       "<table border=\"1\" class=\"dataframe\">\n",
       "  <thead>\n",
       "    <tr style=\"text-align: right;\">\n",
       "      <th></th>\n",
       "      <th>County</th>\n",
       "      <th>MunicipalType</th>\n",
       "      <th>POP2010</th>\n",
       "    </tr>\n",
       "    <tr>\n",
       "      <th>Municipality</th>\n",
       "      <th></th>\n",
       "      <th></th>\n",
       "      <th></th>\n",
       "    </tr>\n",
       "  </thead>\n",
       "  <tbody>\n",
       "    <tr>\n",
       "      <th>Tavistock</th>\n",
       "      <td>Camden</td>\n",
       "      <td>Borough</td>\n",
       "      <td>5</td>\n",
       "    </tr>\n",
       "    <tr>\n",
       "      <th>Pine Valley</th>\n",
       "      <td>Camden</td>\n",
       "      <td>Borough</td>\n",
       "      <td>12</td>\n",
       "    </tr>\n",
       "    <tr>\n",
       "      <th>Walpack Township</th>\n",
       "      <td>Sussex</td>\n",
       "      <td>Township</td>\n",
       "      <td>16</td>\n",
       "    </tr>\n",
       "    <tr>\n",
       "      <th>Teterboro</th>\n",
       "      <td>Bergen</td>\n",
       "      <td>Borough</td>\n",
       "      <td>67</td>\n",
       "    </tr>\n",
       "    <tr>\n",
       "      <th>Loch Arbour</th>\n",
       "      <td>Monmouth</td>\n",
       "      <td>Village</td>\n",
       "      <td>194</td>\n",
       "    </tr>\n",
       "  </tbody>\n",
       "</table>\n",
       "</div>"
      ],
      "text/plain": [
       "                    County MunicipalType  POP2010\n",
       "Municipality                                     \n",
       "Tavistock           Camden       Borough        5\n",
       "Pine Valley         Camden       Borough       12\n",
       "Walpack Township    Sussex      Township       16\n",
       "Teterboro           Bergen       Borough       67\n",
       "Loch Arbour       Monmouth       Village      194"
      ]
     },
     "execution_count": 134,
     "metadata": {},
     "output_type": "execute_result"
    }
   ],
   "source": [
    "# You should write your answer within this cell\n",
    "# write your code of question 4 here\n",
    "\n",
    "df.sort_values(by='POP2017', ascending=True)[:5][['County', 'MunicipalType', 'POP2010']]"
   ]
  },
  {
   "cell_type": "code",
   "execution_count": null,
   "metadata": {},
   "outputs": [],
   "source": []
  }
 ],
 "metadata": {
  "kernelspec": {
   "display_name": "Python 3 (ipykernel)",
   "language": "python",
   "name": "python3"
  },
  "language_info": {
   "codemirror_mode": {
    "name": "ipython",
    "version": 3
   },
   "file_extension": ".py",
   "mimetype": "text/x-python",
   "name": "python",
   "nbconvert_exporter": "python",
   "pygments_lexer": "ipython3",
   "version": "3.9.12"
  }
 },
 "nbformat": 4,
 "nbformat_minor": 2
}
